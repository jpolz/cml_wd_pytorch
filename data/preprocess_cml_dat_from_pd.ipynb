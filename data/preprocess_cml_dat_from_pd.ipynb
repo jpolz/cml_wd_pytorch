{
 "cells": [
  {
   "cell_type": "code",
   "execution_count": 1,
   "metadata": {},
   "outputs": [],
   "source": [
    "import xarray as xr\n",
    "import einops"
   ]
  },
  {
   "cell_type": "code",
   "execution_count": 2,
   "metadata": {},
   "outputs": [],
   "source": [
    "import matplotlib.pyplot as plt\n",
    "import numpy as np"
   ]
  },
  {
   "cell_type": "code",
   "execution_count": 3,
   "metadata": {},
   "outputs": [],
   "source": [
    "from tqdm import tqdm"
   ]
  },
  {
   "cell_type": "code",
   "execution_count": 4,
   "metadata": {},
   "outputs": [],
   "source": [
    "def _rolling_window(a, window):\n",
    "    shape = a.shape[:-1] + (a.shape[-1] - window + 1, window)\n",
    "    strides = a.strides + (a.strides[-1],)\n",
    "    return np.lib.stride_tricks.as_strided(\n",
    "        a, shape=shape, strides=strides, writeable=False\n",
    "    )"
   ]
  },
  {
   "cell_type": "code",
   "execution_count": 5,
   "metadata": {},
   "outputs": [
    {
     "name": "stderr",
     "output_type": "stream",
     "text": [
      "  0%|          | 0/10 [00:00<?, ?it/s]\n"
     ]
    },
    {
     "ename": "NameError",
     "evalue": "name 'll' is not defined",
     "output_type": "error",
     "traceback": [
      "\u001b[0;31m---------------------------------------------------------------------------\u001b[0m",
      "\u001b[0;31mNameError\u001b[0m                                 Traceback (most recent call last)",
      "Cell \u001b[0;32mIn[5], line 18\u001b[0m\n\u001b[1;32m     16\u001b[0m         tll\u001b[38;5;241m.\u001b[39mappend(_rolling_window(tl[:,i,j], \u001b[38;5;241m180\u001b[39m))\n\u001b[1;32m     17\u001b[0m     r\u001b[38;5;241m.\u001b[39mappend(_rolling_window(rr[:,i], \u001b[38;5;241m180\u001b[39m))\n\u001b[0;32m---> 18\u001b[0m     l\u001b[38;5;241m.\u001b[39mappend(\u001b[43mll\u001b[49m)\n\u001b[1;32m     19\u001b[0m l \u001b[38;5;241m=\u001b[39m einops\u001b[38;5;241m.\u001b[39mrearrange(np\u001b[38;5;241m.\u001b[39marray(l), \u001b[38;5;124m'\u001b[39m\u001b[38;5;124mi c b t -> (b i) t c\u001b[39m\u001b[38;5;124m'\u001b[39m)\n\u001b[1;32m     20\u001b[0m r \u001b[38;5;241m=\u001b[39m einops\u001b[38;5;241m.\u001b[39mrearrange(np\u001b[38;5;241m.\u001b[39marray(r), \u001b[38;5;124m'\u001b[39m\u001b[38;5;124mi b t -> (b i) t\u001b[39m\u001b[38;5;124m'\u001b[39m)\n",
      "\u001b[0;31mNameError\u001b[0m: name 'll' is not defined"
     ]
    }
   ],
   "source": [
    "ds_rad = xr.open_dataset('/pd/data/CML/data/reference/radklim_yw_1min/2018_2020_radklim_yw_1_min.nc', engine='netcdf4')\n",
    "ds_cml = xr.open_dataset('/pd/data/CML/data/processed/proc2021.001/proc_hess_amt/proc_cnn_gapstandard_2020_05.nc', engine='netcdf4')\n",
    "ds_rad = ds_rad.reindex(time=ds_cml.time.values,method='nearest',tolerance='10s')\n",
    "ds_cml['radar_rainfall'] = ds_rad.rainfall_amount\n",
    "ds_cml = ds_cml.isel(cml_id=np.arange(10)).load()\n",
    "ds_cml['r_median_tl'] = ds_cml.txrx.rolling(time=60*72, min_periods=60*3).median()\n",
    "ds_cml['tl_norm'] = ds_cml['txrx']-ds_cml['r_median_tl']\n",
    "ds_cml = ds_cml.sel(time=slice('2020-05-10','2020-05-15'))\n",
    "tl = einops.rearrange(ds_cml.tl_norm.values, 'c i t -> t i c')\n",
    "rr = ds_cml.radar_rainfall.values\n"
   ]
  },
  {
   "cell_type": "code",
   "execution_count": 8,
   "metadata": {},
   "outputs": [
    {
     "name": "stderr",
     "output_type": "stream",
     "text": [
      "100%|██████████| 10/10 [00:00<00:00, 37854.73it/s]\n"
     ]
    }
   ],
   "source": [
    "l = []\n",
    "r = []\n",
    "for i in tqdm(range(tl.shape[1])):\n",
    "    tll = []\n",
    "    for j in range(tl.shape[2]):\n",
    "        tll.append(_rolling_window(tl[:,i,j], 180))\n",
    "    r.append(_rolling_window(rr[:,i], 180))\n",
    "    l.append(tll)\n",
    "l = einops.rearrange(np.array(l), 'i c b t -> (b i) t c')\n",
    "r = einops.rearrange(np.array(r), 'i b t -> (b i) t')\n",
    "ds = xr.Dataset()\n",
    "ds['tl'] = ('sample_number','timestep','channel_id',), l\n",
    "ds['radar'] = ('sample_number','timestep',), r\n",
    "ds['tl_valid'] = ds.tl.isnull().sum(dim='timestep').sum(dim='channel_id')==0"
   ]
  },
  {
   "cell_type": "code",
   "execution_count": 10,
   "metadata": {},
   "outputs": [],
   "source": [
    "ds = ds.sel(sample_number=ds.sample_number[ds.tl_valid])"
   ]
  },
  {
   "cell_type": "code",
   "execution_count": 12,
   "metadata": {},
   "outputs": [
    {
     "data": {
      "text/plain": [
       "0.331200329"
      ]
     },
     "execution_count": 12,
     "metadata": {},
     "output_type": "execute_result"
    }
   ],
   "source": [
    "ds.nbytes/1e9"
   ]
  },
  {
   "cell_type": "code",
   "execution_count": 13,
   "metadata": {},
   "outputs": [],
   "source": [
    "ds.to_netcdf('/bg/fast/aihydromet/cml_wet_dry_radklim/example_data.nc')"
   ]
  },
  {
   "cell_type": "code",
   "execution_count": null,
   "metadata": {},
   "outputs": [],
   "source": []
  }
 ],
 "metadata": {
  "kernelspec": {
   "display_name": "cml_wd_pytorch",
   "language": "python",
   "name": "python3"
  },
  "language_info": {
   "codemirror_mode": {
    "name": "ipython",
    "version": 3
   },
   "file_extension": ".py",
   "mimetype": "text/x-python",
   "name": "python",
   "nbconvert_exporter": "python",
   "pygments_lexer": "ipython3",
   "version": "3.10.14"
  }
 },
 "nbformat": 4,
 "nbformat_minor": 2
}
